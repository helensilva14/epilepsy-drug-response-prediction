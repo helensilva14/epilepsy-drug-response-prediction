{
 "cells": [
  {
   "cell_type": "markdown",
   "metadata": {},
   "source": [
    "### Import the necessary libraries"
   ]
  },
  {
   "cell_type": "code",
   "execution_count": 1,
   "metadata": {
    "collapsed": true
   },
   "outputs": [],
   "source": [
    "import pandas as pd\n",
    "import numpy as np\n",
    "import pickle\n",
    "import itertools\n",
    "import os\n",
    "import warnings\n",
    "\n",
    "from matplotlib import pyplot as plt\n",
    "%matplotlib inline\n",
    "\n",
    "from __future__ import print_function\n",
    "\n",
    "from sklearn.model_selection import train_test_split, GridSearchCV, LeaveOneOut, KFold\n",
    "from sklearn.metrics import classification_report\n",
    "from sklearn.svm import SVC\n",
    "\n",
    "from sklearn.metrics import roc_curve, auc, accuracy_score, confusion_matrix\n",
    "\n",
    "os.environ[\"CUDA_VISIBLE_DEVICES\"] = \"1\" "
   ]
  },
  {
   "cell_type": "markdown",
   "metadata": {},
   "source": [
    "### Function to plot Confusion Matrix without Normalization"
   ]
  },
  {
   "cell_type": "code",
   "execution_count": 2,
   "metadata": {
    "collapsed": true
   },
   "outputs": [],
   "source": [
    "def plot_confusion_matrix(cm, score):\n",
    "    plt.clf()\n",
    "    plt.imshow(cm, interpolation='nearest', cmap=plt.cm.Wistia)\n",
    "    plt.title('Drug Response Prediction Confusion Matrix without Normalization')\n",
    "    plt.ylabel('True label')\n",
    "    plt.xlabel('Predicted label')\n",
    "    classNames = ['Negative','Positive'] # generic approach (can be replaced by the responsive and non-responsive)\n",
    "    tick_marks = np.arange(len(classNames))\n",
    "    plt.xticks(tick_marks, classNames, rotation=45)\n",
    "    plt.yticks(tick_marks, classNames)\n",
    "    # approach without normalization\n",
    "    s = [['TN','FP'], ['FN', 'TP']]\n",
    "    for i in range(2):\n",
    "        for j in range(2):\n",
    "            plt.text(j, i, str(s[i][j])+\" = \"+str(cm[i][j]))\n",
    "    # save plot as image \n",
    "    plt.savefig('./figures/default-confusion-matrixes/metalearning-all-data-svm-default-cm')\n",
    "    plt.show()"
   ]
  },
  {
   "cell_type": "markdown",
   "metadata": {},
   "source": [
    "### Function to plot a Normalized Confusion Matrix"
   ]
  },
  {
   "cell_type": "code",
   "execution_count": 3,
   "metadata": {
    "collapsed": true
   },
   "outputs": [],
   "source": [
    "def plot_normalized_confusion_matrix(cm, score):\n",
    "    # apply normalization\n",
    "    cm = cm.astype('float') / cm.sum(axis=1)[:, np.newaxis]\n",
    "    # plot matrix\n",
    "    plt.clf()\n",
    "    plt.imshow(cm, interpolation='nearest', cmap=plt.cm.Blues)\n",
    "    plt.title('Matriz de Confusão Normalizada') # Normalized Drug Response Prediction Confusion Matrix\n",
    "    plt.colorbar()\n",
    "    plt.ylabel('Rótulo verdadeiro') # True label\n",
    "    plt.xlabel('Rótulo previsto') # Predicted label\n",
    "    classNames = ['Refratário','Responsivo'] # 'Refractory','Responsive'\n",
    "    tick_marks = np.arange(len(classNames))\n",
    "    plt.xticks(tick_marks, classNames, rotation=45)\n",
    "    plt.yticks(tick_marks, classNames)\n",
    "    # normalized display approach\n",
    "    fmt = '.2f' \n",
    "    thresh = cm.max() / 2.\n",
    "    for i, j in itertools.product(range(cm.shape[0]), range(cm.shape[1])):\n",
    "        plt.text(j, i, format(cm[i, j], fmt), \n",
    "                 horizontalalignment=\"center\", color=\"white\" if cm[i, j] > thresh else \"black\")\n",
    "    plt.tight_layout()\n",
    "    # save plot as image \n",
    "    plt.savefig('./figures/normalized-confusion-matrixes/metalearning-all-data-svm-%s-normalized-cm' % score)\n",
    "    plt.show()"
   ]
  },
  {
   "cell_type": "markdown",
   "metadata": {},
   "source": [
    "### Function to plot ROC curve"
   ]
  },
  {
   "cell_type": "code",
   "execution_count": 4,
   "metadata": {
    "collapsed": true
   },
   "outputs": [],
   "source": [
    "def plot_roc_curve(fpr, tpr, auc_score, score):\n",
    "    plt.figure(1)\n",
    "    plt.xlim([0.0, 1.0])\n",
    "    plt.ylim([0.0, 1.05])\n",
    "    plt.plot([0, 1], [0, 1], color='navy', linestyle='--') \n",
    "    plt.plot(fpr, tpr, color='darkorange', label='AUC = %f)' % auc_score)\n",
    "    plt.xlabel('Taxa de falsos positivos') # False positive rate\n",
    "    plt.ylabel('Taxa de verdadeiros positivos') # True positive rate\n",
    "    plt.title('Curva ROC') # Drug Response Prediction - ROC Curve\n",
    "    plt.legend(loc='best')\n",
    "    # save plot as image \n",
    "    plt.savefig('./figures/roc-curves/metalearning-all-data-svm-%s-roc-curve' % score)\n",
    "    plt.show()"
   ]
  },
  {
   "cell_type": "markdown",
   "metadata": {},
   "source": [
    "### Read and combine pre-processed data from genetic and clinical datasets"
   ]
  },
  {
   "cell_type": "code",
   "execution_count": 5,
   "metadata": {
    "collapsed": true
   },
   "outputs": [],
   "source": [
    "# get preprocessed data from both datasets\n",
    "genetic_data = pickle.load( open( \"../data/preprocessed/article-genetic-data-features.p\", \"rb\" ) )\n",
    "clinical_data = pickle.load( open( \"../data/preprocessed/article-clinical-data-features.p\", \"rb\" ) )\n",
    "\n",
    "# set the datasets as an unique set of features \n",
    "X = np.column_stack((genetic_data, clinical_data))\n",
    "y = pickle.load( open( \"../data/preprocessed/article-genetic-data-labels.p\", \"rb\" ) )"
   ]
  },
  {
   "cell_type": "code",
   "execution_count": 6,
   "metadata": {},
   "outputs": [
    {
     "data": {
      "text/plain": [
       "array([[ 1.,  0.,  0., ...,  0.,  1.,  0.],\n",
       "       [ 1.,  0.,  0., ...,  1.,  1.,  0.],\n",
       "       [ 1.,  0.,  0., ...,  1.,  1.,  0.],\n",
       "       ..., \n",
       "       [ 1.,  0.,  0., ...,  1.,  0.,  1.],\n",
       "       [ 1.,  0.,  0., ...,  0.,  0.,  1.],\n",
       "       [ 1.,  0.,  0., ...,  0.,  0.,  1.]])"
      ]
     },
     "execution_count": 6,
     "metadata": {},
     "output_type": "execute_result"
    }
   ],
   "source": [
    "X"
   ]
  },
  {
   "cell_type": "code",
   "execution_count": 7,
   "metadata": {},
   "outputs": [
    {
     "data": {
      "text/plain": [
       "241"
      ]
     },
     "execution_count": 7,
     "metadata": {},
     "output_type": "execute_result"
    }
   ],
   "source": [
    "n_samples = len(X)\n",
    "\n",
    "n_samples"
   ]
  },
  {
   "cell_type": "code",
   "execution_count": 8,
   "metadata": {
    "collapsed": true
   },
   "outputs": [],
   "source": [
    "# SOURCE: http://scikit-learn.org/stable/auto_examples/model_selection/plot_grid_search_digits.html\n",
    "\n",
    "# set the parameters by cross-validation\n",
    "# TODO: http://ogrisel.github.io/scikit-learn.org/sklearn-tutorial/auto_examples/svm/plot_svm_parameters_selection.html\n",
    "tuned_parameters = [{'kernel': ['rbf'], 'gamma': [1e-3, 1e-4],\n",
    "                     'C': [0.001, 0.01, 1, 10, 100, 1000]}, \n",
    "                    {'kernel': ['linear'], 'C': [0.001, 0.01, 1, 10, 100, 1000]}]\n",
    "\n",
    "scores = ['accuracy', 'precision', 'recall']"
   ]
  },
  {
   "cell_type": "markdown",
   "metadata": {},
   "source": [
    "### Fit and predict samples using a Meta-learning approach provided by SVM "
   ]
  },
  {
   "cell_type": "code",
   "execution_count": null,
   "metadata": {},
   "outputs": [],
   "source": [
    "# ignore undefined metric warnings: \n",
    "# https://stackoverflow.com/questions/43162506/undefinedmetricwarning-f-score-is-ill-defined-and-being-set-to-0-0-in-labels-wi\n",
    "warnings.filterwarnings(action='ignore')\n",
    "   \n",
    "for score in scores:\n",
    "    \n",
    "    # create a LOOCV approach using KFold in function of its random state parameter\n",
    "    kfold = KFold(n_splits=n_samples, shuffle=True, random_state=10)\n",
    "    \n",
    "    ytrues = []\n",
    "    ypreds = []\n",
    "    \n",
    "    print(\"# Tuning hyper-parameters for %s\\n\" % score)\n",
    "    clf = GridSearchCV(SVC(), tuned_parameters, scoring='%s' % score)\n",
    "    \n",
    "    # show the classifier default params\n",
    "    print(str(clf))\n",
    "    \n",
    "    # iterate through the dataset using LOOCV\n",
    "    for train_idx, test_idx in kfold.split(X):\n",
    " \n",
    "        # get split sets\n",
    "        X_train, X_test, y_train, y_test = X[train_idx], X[test_idx], y[train_idx], y[test_idx]\n",
    "    \n",
    "        # train splits\n",
    "        clf.fit(X_train, y_train)\n",
    "        \n",
    "        # get predictions\n",
    "        y_true, y_pred = y_test, clf.predict(X_test)\n",
    "        \n",
    "        # store split results\n",
    "        ytrues += list(y_true)\n",
    "        ypreds += list(y_pred)\n",
    "        \n",
    "    print(\"Best parameters set found on development set: \\n\")\n",
    "    print(clf.best_params_)\n",
    "    \n",
    "    print(\"\\nDetailed classification report: \\n\")\n",
    "    print(\"%s\" % classification_report(ytrues, ypreds))\n",
    "    \n",
    "    print(\"Accuracy: %f\" % accuracy_score(ytrues, ypreds))\n",
    "  \n",
    "    # get metrics evaluation values\n",
    "    fpr, tpr, _ = roc_curve(ytrues, ypreds)\n",
    "    roc_auc = auc(fpr, tpr)\n",
    "    \n",
    "    # generate the confusion matrix for the model results\n",
    "    cm = confusion_matrix(ytrues, ypreds)\n",
    "    \n",
    "    # plot confusion matrix\n",
    "    plot_confusion_matrix(cm, score)\n",
    "    \n",
    "    # plot normalized confusion matrix\n",
    "    plot_normalized_confusion_matrix(cm, score)\n",
    "\n",
    "    # plot the roc curve\n",
    "    plot_roc_curve(fpr, tpr, roc_auc, score)"
   ]
  },
  {
   "cell_type": "code",
   "execution_count": null,
   "metadata": {
    "collapsed": true
   },
   "outputs": [],
   "source": []
  }
 ],
 "metadata": {
  "kernelspec": {
   "display_name": "Python 3",
   "language": "python",
   "name": "python3"
  },
  "language_info": {
   "codemirror_mode": {
    "name": "ipython",
    "version": 3
   },
   "file_extension": ".py",
   "mimetype": "text/x-python",
   "name": "python",
   "nbconvert_exporter": "python",
   "pygments_lexer": "ipython3",
   "version": "3.6.1"
  }
 },
 "nbformat": 4,
 "nbformat_minor": 1
}
