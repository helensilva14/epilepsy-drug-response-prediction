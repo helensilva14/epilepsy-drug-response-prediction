{
 "cells": [
  {
   "cell_type": "markdown",
   "metadata": {},
   "source": [
    "### Import the necessary libraries"
   ]
  },
  {
   "cell_type": "code",
   "execution_count": 1,
   "metadata": {
    "collapsed": true
   },
   "outputs": [],
   "source": [
    "import pickle \n",
    "import numpy as np\n",
    "import pandas as pd\n",
    "import xgboost as xgb\n",
    "import matplotlib.pyplot as plt\n",
    "# %matplotlib inline\n",
    "\n",
    "import os\n",
    "import warnings\n",
    "import itertools\n",
    "\n",
    "from sklearn.model_selection import cross_val_score, cross_val_predict, LeaveOneOut, GridSearchCV\n",
    "from sklearn import metrics\n",
    "\n",
    "from sklearn.tree import DecisionTreeClassifier\n",
    "from sklearn.ensemble import RandomForestClassifier, GradientBoostingClassifier\n",
    "from sklearn.svm import SVC\n",
    "from xgboost.sklearn import XGBClassifier\n",
    "\n",
    "np.random.seed(10)\n",
    "\n",
    "os.environ[\"CUDA_VISIBLE_DEVICES\"] = \"1\" "
   ]
  },
  {
   "cell_type": "markdown",
   "metadata": {},
   "source": [
    "### Get preprocessed data (241 samples)"
   ]
  },
  {
   "cell_type": "code",
   "execution_count": 2,
   "metadata": {},
   "outputs": [
    {
     "name": "stdout",
     "output_type": "stream",
     "text": [
      "<class 'pandas.core.frame.DataFrame'>\n",
      "<class 'pandas.core.series.Series'>\n"
     ]
    }
   ],
   "source": [
    "X = pickle.load(open( \"../data/preprocessed/article-data-features.p\", \"rb\"))\n",
    "y = pickle.load(open( \"../data/preprocessed/article-data-labels.p\", \"rb\"))\n",
    "\n",
    "print(type(X))\n",
    "print(type(y))"
   ]
  },
  {
   "cell_type": "markdown",
   "metadata": {},
   "source": [
    "### Create function to plot Confusion Matrix without Normalization"
   ]
  },
  {
   "cell_type": "code",
   "execution_count": null,
   "metadata": {
    "collapsed": true
   },
   "outputs": [],
   "source": []
  },
  {
   "cell_type": "markdown",
   "metadata": {},
   "source": [
    "### Create function to plot a Normalized Confusion Matrix"
   ]
  },
  {
   "cell_type": "markdown",
   "metadata": {},
   "source": [
    "### Create function to plot ROC curve"
   ]
  },
  {
   "cell_type": "markdown",
   "metadata": {},
   "source": [
    "### Create function to be used to perform model fitting using LOOCV "
   ]
  },
  {
   "cell_type": "code",
   "execution_count": null,
   "metadata": {
    "collapsed": true
   },
   "outputs": [],
   "source": [
    "def fit_model(model, X, y):\n",
    "    # prepare a LOOCV object (number of folds equals the number of samples)\n",
    "    loocv = LeaveOneOut()\n",
    "    loocv.get_n_splits(X)\n",
    "    \n",
    "    # perform cross-validation and get the accuracies\n",
    "    cv_score = cross_val_score(model, X, y, cv=loocv, scoring='accuracy') \n",
    "    \n",
    "    # perform cross-validation and get the predictions and predictions probabilities\n",
    "    preds = cross_val_predict(model, X, y, cv=loocv)\n",
    "    predprobs = cross_val_predict(model, X, y, cv=loocv, method='predict_proba')[:,1]\n",
    "    \n",
    "    # calculate fpr and tpr values using the y_true and predictions probabilities\n",
    "    fpr, tpr, _ = metrics.roc_curve(y, predprobs)\n",
    "    \n",
    "    # calculate the auc score based on fpr and tpr values\n",
    "    auc_score = metrics.auc(fpr, tpr)\n",
    "\n",
    "    # generate the confusion matrix for the model results\n",
    "    cm = metrics.confusion_matrix(y, preds)\n",
    "    \n",
    "    # print model report\n",
    "    print(\"\\nModel Report\\n\")\n",
    "    print(model) # print the used params for the model\n",
    "    print(\"\\nAccuracy (CV Score) : Mean - %.7g | Std - %.7g\" % (np.mean(cv_score), np.std(cv_score)))\n",
    "    print(\"\\nAUC Score : %f\" % auc_score)\n",
    "    print(\"\\n\" + metrics.classification_report(y, preds)) # print a complete classification metrics report\n",
    "    \n",
    "    # get current model name\n",
    "    model_name = str(model).split('(')[0]\n",
    "    \n",
    "    # plot confusion matrix\n",
    "    #plot_confusion_matrix(cm, model_name)\n",
    "    \n",
    "    # plot normalized confusion matrix\n",
    "    #plot_normalized_confusion_matrix(cm, model_name) # gets only the mod\n",
    "\n",
    "    # plot the roc curve\n",
    "    #plot_roc_curve(fpr, tpr, auc_score, model_name)\n",
    "    \n",
    "    return predprobs # return prediction probabilities to be used on meta-learning step"
   ]
  },
  {
   "cell_type": "markdown",
   "metadata": {},
   "source": [
    "### Create a DecisionTreeClassifier baseline model using default parameters"
   ]
  },
  {
   "cell_type": "code",
   "execution_count": null,
   "metadata": {
    "collapsed": true
   },
   "outputs": [],
   "source": [
    "dt = DecisionTreeClassifier(random_state=10)\n",
    "\n",
    "# perform model fitting\n",
    "dt_predprobs = fit_model(dt, X, y)\n",
    "\n",
    "# export prediction probabilities \n",
    "pickle.dump(dt_predprobs, open(\"./predictions/dt-predprobs.p\", \"wb\"))"
   ]
  },
  {
   "cell_type": "markdown",
   "metadata": {},
   "source": [
    "### Create a RandomForestClassifier baseline model using default parameters"
   ]
  },
  {
   "cell_type": "code",
   "execution_count": null,
   "metadata": {
    "collapsed": true
   },
   "outputs": [],
   "source": [
    "rf = RandomForestClassifier(random_state=10)\n",
    "\n",
    "# perform model fitting\n",
    "rf_predprobs = fit_model(rf, X, y)\n",
    "\n",
    "# export prediction probabilities \n",
    "pickle.dump(rf_predprobs, open(\"./predictions/rf-predprobs.p\", \"wb\"))"
   ]
  },
  {
   "cell_type": "markdown",
   "metadata": {},
   "source": [
    "### Create a SVM baseline model using a reduced set of tuned parameters"
   ]
  },
  {
   "cell_type": "code",
   "execution_count": null,
   "metadata": {
    "collapsed": true
   },
   "outputs": [],
   "source": [
    "tuned_parameters = [{'kernel': ['rbf'], 'gamma': [1e-3, 1e-4],\n",
    "                     'C': [0.01, 1, 10, 100]}, \n",
    "                    {'kernel': ['linear'], 'C': [0.01, 1, 10, 100]}]\n",
    "\n",
    "clf = GridSearchCV(SVC(probability=True, random_state=10), tuned_parameters) # svc = SVC(probability=True, random_state=10)\n",
    "\n",
    "# perform model fitting\n",
    "svc_predprobs = fit_model(clf, X, y)\n",
    "\n",
    "# export prediction probabilities \n",
    "pickle.dump(svc_predprobs, open(\"./predictions/svc-predprobs.p\", \"wb\"))"
   ]
  },
  {
   "cell_type": "markdown",
   "metadata": {},
   "source": [
    "### Create a GBM baseline model using default parameters"
   ]
  },
  {
   "cell_type": "code",
   "execution_count": null,
   "metadata": {
    "collapsed": true
   },
   "outputs": [],
   "source": [
    "gbm = GradientBoostingClassifier(random_state=10)\n",
    "\n",
    "# perform model fitting\n",
    "gbm_predprobs = fit_model(gbm, X, y)\n",
    "\n",
    "# export prediction probabilities \n",
    "pickle.dump(gbm_predprobs, open(\"./predictions/gbm-predprobs.p\", \"wb\"))"
   ]
  },
  {
   "cell_type": "markdown",
   "metadata": {},
   "source": [
    "### Create a XGB baseline model using default parameters"
   ]
  },
  {
   "cell_type": "code",
   "execution_count": null,
   "metadata": {
    "collapsed": true
   },
   "outputs": [],
   "source": [
    "xgb = XGBClassifier()\n",
    "\n",
    "# ignore deprecation warnings\n",
    "warnings.filterwarnings(action='ignore', category=DeprecationWarning)\n",
    "\n",
    "# perform model fitting\n",
    "xgb_predprobs = fit_model(xgb, X, y)\n",
    "\n",
    "# export prediction probabilities \n",
    "pickle.dump(xgb_predprobs, open(\"./predictions/xgb-predprobs.p\", \"wb\"))"
   ]
  },
  {
   "cell_type": "markdown",
   "metadata": {},
   "source": [
    "### Compare all generated ROC curves"
   ]
  },
  {
   "cell_type": "code",
   "execution_count": null,
   "metadata": {
    "collapsed": true
   },
   "outputs": [],
   "source": [
    "# calculate fpr, tpr and auc score for all models using the y_true and its predictions probabilities\n",
    "\n",
    "fpr_dt, tpr_dt, _ = metrics.roc_curve(y, dt_predprobs)\n",
    "auc_dt = metrics.auc(fpr_dt, tpr_dt)\n",
    "\n",
    "fpr_rf, tpr_rf, _ = metrics.roc_curve(y, rf_predprobs)\n",
    "auc_rf = metrics.auc(fpr_rf, tpr_rf)\n",
    "\n",
    "fpr_svc, tpr_svc, _ = metrics.roc_curve(y, svc_predprobs)\n",
    "auc_svc = metrics.auc(fpr_svc, tpr_svc)\n",
    "\n",
    "fpr_gbm, tpr_gbm, _ = metrics.roc_curve(y, gbm_predprobs)\n",
    "auc_gbm = metrics.auc(fpr_gbm, tpr_gbm)\n",
    "\n",
    "fpr_xgb, tpr_xgb, _ = metrics.roc_curve(y, xgb_predprobs)\n",
    "auc_xgb = metrics.auc(fpr_xgb, tpr_xgb)\n",
    "\n",
    "# plot all roc curves into the same image\n",
    "\n",
    "plt.xlim([0.0, 1.0])\n",
    "plt.ylim([0.0, 1.05])\n",
    "#plt.plot([0, 1], [0, 1], color='black', linestyle='--')  , \n",
    "plt.plot([0, 1], [0, 1], 'k--', lw=2)\n",
    "plt.plot(fpr_dt, tpr_dt, color='darkorange', label='DT (AUC = %f)' % auc_dt)\n",
    "plt.plot(fpr_rf, fpr_rf, color='navy', label='RF (AUC = %f)' % auc_rf)\n",
    "plt.plot(fpr_svc, fpr_svc, color='aqua', label='SVM (AUC = %f)' % auc_svc)\n",
    "plt.plot(fpr_gbm, fpr_gbm, color='cornflowerblue', label='GBDT (AUC = %f)' % auc_gbm)\n",
    "plt.plot(fpr_xgb, fpr_xgb, color='deeppink', label='XBG (AUC = %f)' % auc_xgb)\n",
    "plt.xlabel('Taxa de falsos positivos') # False positive rate\n",
    "plt.ylabel('Taxa de verdadeiros positivos') # True positive rate\n",
    "plt.title('Curva ROC') # Drug Response Prediction - ROC Curve\n",
    "plt.legend(loc='lower right')\n",
    "# save plot as image \n",
    "plt.savefig('./figures/roc-curves/model-comparison-roc-curves')\n",
    "plt.show()"
   ]
  },
  {
   "cell_type": "code",
   "execution_count": null,
   "metadata": {
    "collapsed": true
   },
   "outputs": [],
   "source": []
  }
 ],
 "metadata": {
  "kernelspec": {
   "display_name": "Python 3",
   "language": "python",
   "name": "python3"
  },
  "language_info": {
   "codemirror_mode": {
    "name": "ipython",
    "version": 3
   },
   "file_extension": ".py",
   "mimetype": "text/x-python",
   "name": "python",
   "nbconvert_exporter": "python",
   "pygments_lexer": "ipython3",
   "version": "3.6.1"
  }
 },
 "nbformat": 4,
 "nbformat_minor": 1
}
