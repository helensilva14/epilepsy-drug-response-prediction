{
 "cells": [
  {
   "cell_type": "code",
   "execution_count": 1,
   "metadata": {
    "collapsed": true
   },
   "outputs": [],
   "source": [
    "import sys\n",
    "import pickle\n",
    "import pandas as pd\n",
    "import matplotlib.pyplot as plt\n",
    "import numpy as np\n",
    "from sklearn.manifold import TSNE"
   ]
  },
  {
   "cell_type": "code",
   "execution_count": 2,
   "metadata": {},
   "outputs": [
    {
     "data": {
      "text/plain": [
       "array([0, 1, 0, 1, 0, 0, 0, 1, 1, 0, 0, 1, 0, 0, 1, 0, 1, 0, 0, 1, 0, 1,\n",
       "       1, 0, 0, 1, 0, 0, 0, 0, 1, 0, 1, 0, 1, 1, 1, 1, 1, 1, 0, 1, 0, 1,\n",
       "       0, 1, 0, 1], dtype=int64)"
      ]
     },
     "execution_count": 2,
     "metadata": {},
     "output_type": "execute_result"
    }
   ],
   "source": [
    "pred = pickle.load(open( \"../predictions/dt-gridsearch-genetic-preds.p\", \"rb\"))\n",
    "\n",
    "pred"
   ]
  },
  {
   "cell_type": "code",
   "execution_count": 32,
   "metadata": {
    "collapsed": true
   },
   "outputs": [],
   "source": [
    "def tsne_projection(X, y, perplexity):    \n",
    "    print('- Projecting by tSNE')\n",
    "    tsne = TSNE(n_components=2, verbose=1, perplexity=perplexity, n_iter=2000)\n",
    "    X = tsne.fit_transform(X)   \n",
    "\n",
    "    Xf = X[y == 0]  # all projected samples with response = 0 (refractory)\n",
    "    Xt = X[y == 1]  # all projected samples with response = 1 (responsive)\n",
    "    \n",
    "    Xf_pred = Xf[pred == 0] \n",
    "    Xt_pred = Xt[pred == 1]\n",
    "\n",
    "    print('- Plotting projected feats')\n",
    "    fig = plt.figure(figsize=(10, 10))\n",
    "    ax = fig.add_subplot(111)\n",
    "    ax.set_title('t-SNE: perplexity=%d' % perplexity)\n",
    "#     line1, = ax.plot(Xf[:,0], Xf[:,1], 'bo', linewidth=0.5, picker=5, label='Refractory')\n",
    "#     line2, = ax.plot(Xt[:,0], Xt[:,1], 'ro', linewidth=0.5, picker=5, label='Responsive')\n",
    "    line1, = ax.plot(Xf[:,0], Xf[:,1], 'bo', linewidth=0.5, picker=5, label='Refractory')\n",
    "    line2, = ax.plot(Xt[:,0], Xt[:,1], 'yo', linewidth=0.5, picker=5, label='Responsive')\n",
    "    line3, = ax.plot(Xf_pred[:,0], Xf_pred[:,1], 'gv', linewidth=0.5, picker=5, label='Refractory')\n",
    "    line4, = ax.plot(Xt_pred[:,0], Xt_pred[:,1], 'rv', linewidth=0.5, picker=5, label='Responsive')\n",
    "    plt.legend(handles=[line1, line2, line3, line4])\n",
    "    plt.show()"
   ]
  },
  {
   "cell_type": "code",
   "execution_count": 33,
   "metadata": {},
   "outputs": [
    {
     "name": "stdout",
     "output_type": "stream",
     "text": [
      "- CSV: ..\\..\\data\\preprocessed\\preprocessed-article-genetic-data.csv\n",
      "- Perplexity: 40\n",
      "----------------------\n",
      "\n",
      "- Projecting by tSNE\n",
      "[t-SNE] Computing 121 nearest neighbors...\n",
      "[t-SNE] Indexed 241 samples in 0.000s...\n",
      "[t-SNE] Computed neighbors for 241 samples in 0.010s...\n",
      "[t-SNE] Computed conditional probabilities for sample 241 / 241\n",
      "[t-SNE] Mean sigma: 2.605072\n",
      "[t-SNE] KL divergence after 250 iterations with early exaggeration: 69.748642\n",
      "[t-SNE] KL divergence after 1550 iterations: 0.835794\n"
     ]
    },
    {
     "ename": "IndexError",
     "evalue": "boolean index did not match indexed array along dimension 0; dimension is 162 but corresponding boolean dimension is 48",
     "output_type": "error",
     "traceback": [
      "\u001b[1;31m---------------------------------------------------------------------------\u001b[0m",
      "\u001b[1;31mIndexError\u001b[0m                                Traceback (most recent call last)",
      "\u001b[1;32m<ipython-input-33-ba813cb0139f>\u001b[0m in \u001b[0;36m<module>\u001b[1;34m()\u001b[0m\n\u001b[0;32m     10\u001b[0m \u001b[0my\u001b[0m \u001b[1;33m=\u001b[0m \u001b[0mdf\u001b[0m\u001b[1;33m.\u001b[0m\u001b[0mvalues\u001b[0m\u001b[1;33m[\u001b[0m\u001b[1;33m:\u001b[0m\u001b[1;33m,\u001b[0m \u001b[1;36m0\u001b[0m\u001b[1;33m]\u001b[0m\u001b[1;33m\u001b[0m\u001b[1;33m\u001b[0m\u001b[0m\n\u001b[0;32m     11\u001b[0m \u001b[1;33m\u001b[0m\u001b[0m\n\u001b[1;32m---> 12\u001b[1;33m \u001b[0mtsne_projection\u001b[0m\u001b[1;33m(\u001b[0m\u001b[0mX\u001b[0m\u001b[1;33m,\u001b[0m \u001b[0my\u001b[0m\u001b[1;33m,\u001b[0m \u001b[0mperplexity\u001b[0m\u001b[1;33m)\u001b[0m\u001b[1;33m\u001b[0m\u001b[1;33m\u001b[0m\u001b[0m\n\u001b[0m",
      "\u001b[1;32m<ipython-input-32-3f1b90b86597>\u001b[0m in \u001b[0;36mtsne_projection\u001b[1;34m(X, y, perplexity)\u001b[0m\n\u001b[0;32m      9\u001b[0m     \u001b[0mXt\u001b[0m \u001b[1;33m=\u001b[0m \u001b[0mX\u001b[0m\u001b[1;33m[\u001b[0m\u001b[0my\u001b[0m \u001b[1;33m==\u001b[0m \u001b[1;36m1\u001b[0m\u001b[1;33m]\u001b[0m  \u001b[1;31m# all projected samples with response = 1 (responsive)\u001b[0m\u001b[1;33m\u001b[0m\u001b[1;33m\u001b[0m\u001b[0m\n\u001b[0;32m     10\u001b[0m \u001b[1;33m\u001b[0m\u001b[0m\n\u001b[1;32m---> 11\u001b[1;33m     \u001b[0mXf_pred\u001b[0m \u001b[1;33m=\u001b[0m \u001b[0mXf\u001b[0m\u001b[1;33m[\u001b[0m\u001b[0mpred\u001b[0m \u001b[1;33m==\u001b[0m \u001b[1;36m0\u001b[0m\u001b[1;33m]\u001b[0m\u001b[1;33m\u001b[0m\u001b[1;33m\u001b[0m\u001b[0m\n\u001b[0m\u001b[0;32m     12\u001b[0m     \u001b[0mXt_pred\u001b[0m \u001b[1;33m=\u001b[0m \u001b[0mXt\u001b[0m\u001b[1;33m[\u001b[0m\u001b[0mpred\u001b[0m \u001b[1;33m==\u001b[0m \u001b[1;36m1\u001b[0m\u001b[1;33m]\u001b[0m\u001b[1;33m\u001b[0m\u001b[1;33m\u001b[0m\u001b[0m\n\u001b[0;32m     13\u001b[0m \u001b[1;33m\u001b[0m\u001b[0m\n",
      "\u001b[1;31mIndexError\u001b[0m: boolean index did not match indexed array along dimension 0; dimension is 162 but corresponding boolean dimension is 48"
     ]
    }
   ],
   "source": [
    "csv_path = '..\\..\\data\\preprocessed\\preprocessed-article-genetic-data.csv'\n",
    "perplexity = 40\n",
    "\n",
    "print(\"- CSV: %s\" % csv_path)\n",
    "print(\"- Perplexity: %d\" % perplexity)\n",
    "print(\"----------------------\\n\")\n",
    "\n",
    "df = pd.read_csv(csv_path)\n",
    "X = df.values[:, 1:]\n",
    "y = df.values[:, 0]\n",
    "\n",
    "tsne_projection(X, y, perplexity)"
   ]
  },
  {
   "cell_type": "code",
   "execution_count": 11,
   "metadata": {},
   "outputs": [
    {
     "data": {
      "text/plain": [
       "array([1, 1, 1, 1, 1, 1, 1, 1, 1, 1, 1, 1, 1, 1, 1, 1, 1, 1, 1, 1, 1, 1,\n",
       "       1, 1, 1, 1, 1, 1, 1, 1, 1, 1, 1, 1, 1, 1, 1, 1, 1, 1, 1, 1, 1, 1,\n",
       "       1, 1, 1, 1, 1, 1, 1, 1, 1, 1, 1, 1, 1, 1, 1, 1, 1, 1, 1, 1, 1, 1,\n",
       "       1, 1, 1, 1, 1, 1, 1, 1, 1, 1, 1, 1, 1, 0, 0, 0, 0, 0, 0, 0, 0, 0,\n",
       "       0, 0, 0, 0, 0, 0, 0, 0, 0, 0, 0, 0, 0, 0, 0, 0, 0, 0, 0, 0, 0, 0,\n",
       "       0, 0, 0, 0, 0, 0, 0, 0, 0, 0, 0, 0, 0, 0, 0, 0, 0, 0, 0, 0, 0, 0,\n",
       "       0, 0, 0, 0, 0, 0, 0, 0, 0, 0, 0, 0, 0, 0, 0, 0, 0, 0, 0, 0, 0, 0,\n",
       "       0, 0, 0, 0, 0, 0, 0, 0, 0, 0, 0, 0, 0, 0, 0, 0, 0, 0, 0, 0, 0, 0,\n",
       "       0, 0, 0, 0, 0, 0, 0, 0, 0, 0, 0, 0, 0, 0, 0, 0, 0, 0, 0, 0, 0, 0,\n",
       "       0, 0, 0, 0, 0, 0, 0, 0, 0, 0, 0, 0, 0, 0, 0, 0, 0, 0, 0, 0, 0, 0,\n",
       "       0, 0, 0, 0, 0, 0, 0, 0, 0, 0, 0, 0, 0, 0, 0, 0, 0, 0, 0, 0, 0],\n",
       "      dtype=int64)"
      ]
     },
     "execution_count": 11,
     "metadata": {},
     "output_type": "execute_result"
    }
   ],
   "source": [
    "Xf = X[y == 0]  # all projected samples with response = 0 (refractory)\n",
    "Xt = X[y == 1]  # all projected samples with response = 1 (responsive)\n"
   ]
  },
  {
   "cell_type": "code",
   "execution_count": 6,
   "metadata": {},
   "outputs": [
    {
     "data": {
      "text/plain": [
       "array([False, False, False, False, False, False, False, False, False,\n",
       "       False, False, False, False, False, False, False, False, False,\n",
       "       False, False, False, False, False, False, False, False, False,\n",
       "       False, False, False, False, False, False, False, False, False,\n",
       "       False, False, False, False, False, False, False, False, False,\n",
       "       False, False, False, False, False, False, False, False, False,\n",
       "       False, False, False, False, False, False, False, False, False,\n",
       "       False, False, False, False, False, False, False, False, False,\n",
       "       False, False, False, False, False, False, False,  True,  True,\n",
       "        True,  True,  True,  True,  True,  True,  True,  True,  True,\n",
       "        True,  True,  True,  True,  True,  True,  True,  True,  True,\n",
       "        True,  True,  True,  True,  True,  True,  True,  True,  True,\n",
       "        True,  True,  True,  True,  True,  True,  True,  True,  True,\n",
       "        True,  True,  True,  True,  True,  True,  True,  True,  True,\n",
       "        True,  True,  True,  True,  True,  True,  True,  True,  True,\n",
       "        True,  True,  True,  True,  True,  True,  True,  True,  True,\n",
       "        True,  True,  True,  True,  True,  True,  True,  True,  True,\n",
       "        True,  True,  True,  True,  True,  True,  True,  True,  True,\n",
       "        True,  True,  True,  True,  True,  True,  True,  True,  True,\n",
       "        True,  True,  True,  True,  True,  True,  True,  True,  True,\n",
       "        True,  True,  True,  True,  True,  True,  True,  True,  True,\n",
       "        True,  True,  True,  True,  True,  True,  True,  True,  True,\n",
       "        True,  True,  True,  True,  True,  True,  True,  True,  True,\n",
       "        True,  True,  True,  True,  True,  True,  True,  True,  True,\n",
       "        True,  True,  True,  True,  True,  True,  True,  True,  True,\n",
       "        True,  True,  True,  True,  True,  True,  True,  True,  True,\n",
       "        True,  True,  True,  True,  True,  True,  True])"
      ]
     },
     "execution_count": 6,
     "metadata": {},
     "output_type": "execute_result"
    }
   ],
   "source": [
    "y == 0"
   ]
  },
  {
   "cell_type": "code",
   "execution_count": 15,
   "metadata": {},
   "outputs": [
    {
     "name": "stdout",
     "output_type": "stream",
     "text": [
      "[t-SNE] Computing 121 nearest neighbors...\n",
      "[t-SNE] Indexed 241 samples in 0.000s...\n",
      "[t-SNE] Computed neighbors for 241 samples in 0.008s...\n",
      "[t-SNE] Computed conditional probabilities for sample 241 / 241\n",
      "[t-SNE] Mean sigma: 0.000000\n",
      "[t-SNE] KL divergence after 250 iterations with early exaggeration: 52.009220\n",
      "[t-SNE] KL divergence after 1400 iterations: -0.149681\n"
     ]
    },
    {
     "data": {
      "text/plain": [
       "array([[-28.357666  ],\n",
       "       [-16.565557  ],\n",
       "       [-18.307724  ],\n",
       "       [-28.713928  ],\n",
       "       [-16.565557  ],\n",
       "       [-28.339287  ],\n",
       "       [-29.146854  ],\n",
       "       [-16.565557  ],\n",
       "       [-26.906586  ],\n",
       "       [-18.307724  ],\n",
       "       [-17.495977  ],\n",
       "       [-18.307724  ],\n",
       "       [-28.745073  ],\n",
       "       [-28.745073  ],\n",
       "       [-29.146854  ],\n",
       "       [-28.005653  ],\n",
       "       [-16.565557  ],\n",
       "       [-29.756353  ],\n",
       "       [-26.906586  ],\n",
       "       [-18.307724  ],\n",
       "       [-18.307724  ],\n",
       "       [-16.565557  ],\n",
       "       [-29.756353  ],\n",
       "       [-20.387827  ],\n",
       "       [-27.62728   ],\n",
       "       [-29.756353  ],\n",
       "       [-27.62728   ],\n",
       "       [-29.17441   ],\n",
       "       [-16.565557  ],\n",
       "       [-20.387827  ],\n",
       "       [-18.307724  ],\n",
       "       [-16.565557  ],\n",
       "       [-27.62728   ],\n",
       "       [-26.113512  ],\n",
       "       [-17.495977  ],\n",
       "       [-29.756353  ],\n",
       "       [-29.145103  ],\n",
       "       [-27.232237  ],\n",
       "       [-28.36796   ],\n",
       "       [-26.837807  ],\n",
       "       [-26.837807  ],\n",
       "       [-16.565557  ],\n",
       "       [-26.113512  ],\n",
       "       [-28.357666  ],\n",
       "       [-27.232237  ],\n",
       "       [-27.232237  ],\n",
       "       [-16.565557  ],\n",
       "       [-17.495977  ],\n",
       "       [-26.113512  ],\n",
       "       [-16.565557  ],\n",
       "       [-16.565557  ],\n",
       "       [-26.113512  ],\n",
       "       [-29.145103  ],\n",
       "       [-18.307724  ],\n",
       "       [-17.495977  ],\n",
       "       [-17.495977  ],\n",
       "       [-17.495977  ],\n",
       "       [-16.565557  ],\n",
       "       [-29.756353  ],\n",
       "       [-20.387827  ],\n",
       "       [-18.307724  ],\n",
       "       [ -2.2107248 ],\n",
       "       [-18.307724  ],\n",
       "       [-16.565557  ],\n",
       "       [-17.495977  ],\n",
       "       [-28.339287  ],\n",
       "       [-28.005653  ],\n",
       "       [-18.307724  ],\n",
       "       [-28.005653  ],\n",
       "       [-16.565557  ],\n",
       "       [-27.177626  ],\n",
       "       [-27.62728   ],\n",
       "       [-28.005653  ],\n",
       "       [-26.549232  ],\n",
       "       [-18.307724  ],\n",
       "       [-26.549232  ],\n",
       "       [-16.565557  ],\n",
       "       [-27.62728   ],\n",
       "       [-28.766882  ],\n",
       "       [  3.2388318 ],\n",
       "       [ -1.2818906 ],\n",
       "       [  1.670405  ],\n",
       "       [  3.2388318 ],\n",
       "       [  2.650021  ],\n",
       "       [  3.2388318 ],\n",
       "       [  2.6500201 ],\n",
       "       [ -0.21126899],\n",
       "       [ -1.2818906 ],\n",
       "       [ -0.21126989],\n",
       "       [ -0.6444968 ],\n",
       "       [ -0.644497  ],\n",
       "       [  3.2388318 ],\n",
       "       [ -1.2818906 ],\n",
       "       [  2.275273  ],\n",
       "       [ 22.40218   ],\n",
       "       [  3.3021734 ],\n",
       "       [  2.650021  ],\n",
       "       [ -0.21126989],\n",
       "       [  2.650021  ],\n",
       "       [ -1.2818906 ],\n",
       "       [  2.2777653 ],\n",
       "       [ -1.2818906 ],\n",
       "       [  3.2388318 ],\n",
       "       [  3.2388318 ],\n",
       "       [ -0.21126989],\n",
       "       [  2.650021  ],\n",
       "       [  1.670405  ],\n",
       "       [ -0.21126989],\n",
       "       [  2.275273  ],\n",
       "       [ -0.6444968 ],\n",
       "       [ -1.2818906 ],\n",
       "       [  1.670405  ],\n",
       "       [  1.670405  ],\n",
       "       [  2.275274  ],\n",
       "       [  2.275273  ],\n",
       "       [  1.670405  ],\n",
       "       [  1.670405  ],\n",
       "       [  1.670405  ],\n",
       "       [ -0.6444968 ],\n",
       "       [ -1.2818906 ],\n",
       "       [ 11.57582   ],\n",
       "       [ 27.792313  ],\n",
       "       [ 16.922058  ],\n",
       "       [ 11.57582   ],\n",
       "       [ 16.922058  ],\n",
       "       [ 17.473974  ],\n",
       "       [ 11.57582   ],\n",
       "       [ 26.596233  ],\n",
       "       [ 26.596233  ],\n",
       "       [ 16.23593   ],\n",
       "       [ 10.055942  ],\n",
       "       [ 24.832554  ],\n",
       "       [ 10.055942  ],\n",
       "       [  5.0701203 ],\n",
       "       [ 24.832554  ],\n",
       "       [ 24.832554  ],\n",
       "       [ 19.176237  ],\n",
       "       [ 20.714703  ],\n",
       "       [ 16.23593   ],\n",
       "       [ 16.23593   ],\n",
       "       [  5.0701203 ],\n",
       "       [ 26.596233  ],\n",
       "       [ 10.701126  ],\n",
       "       [ 23.817926  ],\n",
       "       [ 23.820599  ],\n",
       "       [ 26.596233  ],\n",
       "       [ 26.596233  ],\n",
       "       [  8.044234  ],\n",
       "       [ 16.922058  ],\n",
       "       [ 10.055942  ],\n",
       "       [ 17.473974  ],\n",
       "       [ 11.57582   ],\n",
       "       [ 24.832554  ],\n",
       "       [ 15.026582  ],\n",
       "       [  6.575443  ],\n",
       "       [ 16.23593   ],\n",
       "       [ 17.473974  ],\n",
       "       [  5.0701203 ],\n",
       "       [ 24.832554  ],\n",
       "       [  8.044234  ],\n",
       "       [ 20.714703  ],\n",
       "       [  9.785608  ],\n",
       "       [ 22.40218   ],\n",
       "       [  5.5378227 ],\n",
       "       [ 22.40218   ],\n",
       "       [ 19.176237  ],\n",
       "       [  9.785608  ],\n",
       "       [ 17.473974  ],\n",
       "       [ 10.701126  ],\n",
       "       [ 22.40218   ],\n",
       "       [  8.044234  ],\n",
       "       [ 16.922058  ],\n",
       "       [ 20.7147    ],\n",
       "       [ 24.237457  ],\n",
       "       [ 21.959223  ],\n",
       "       [ 24.832554  ],\n",
       "       [ 26.596233  ],\n",
       "       [ 24.832554  ],\n",
       "       [ 10.701126  ],\n",
       "       [ 24.237457  ],\n",
       "       [ 17.473974  ],\n",
       "       [ 23.820599  ],\n",
       "       [ 26.596233  ],\n",
       "       [ 12.20735   ],\n",
       "       [ 17.473974  ],\n",
       "       [ 16.23593   ],\n",
       "       [ 11.216192  ],\n",
       "       [ 20.714703  ],\n",
       "       [ 24.832554  ],\n",
       "       [ 17.473974  ],\n",
       "       [  5.0701203 ],\n",
       "       [  6.575443  ],\n",
       "       [ 10.701126  ],\n",
       "       [ 11.216192  ],\n",
       "       [ 24.237457  ],\n",
       "       [ 10.055942  ],\n",
       "       [ 21.959223  ],\n",
       "       [  5.5378227 ],\n",
       "       [ 10.701126  ],\n",
       "       [  9.785608  ],\n",
       "       [ 11.216191  ],\n",
       "       [ 26.596233  ],\n",
       "       [ 16.23593   ],\n",
       "       [ 19.176237  ],\n",
       "       [  8.044234  ],\n",
       "       [ 19.176237  ],\n",
       "       [ 10.701126  ],\n",
       "       [ 22.402182  ],\n",
       "       [ 12.20735   ],\n",
       "       [ 26.596233  ],\n",
       "       [ 24.832554  ],\n",
       "       [-31.62114   ],\n",
       "       [ 12.20735   ],\n",
       "       [ 26.596233  ],\n",
       "       [ 23.820599  ],\n",
       "       [ 21.959223  ],\n",
       "       [ 12.20735   ],\n",
       "       [ 23.817926  ],\n",
       "       [ 16.23593   ],\n",
       "       [ 19.176237  ],\n",
       "       [-31.62114   ],\n",
       "       [ 16.23593   ],\n",
       "       [ 16.23593   ],\n",
       "       [ 26.596233  ],\n",
       "       [ 10.701126  ],\n",
       "       [ 19.176237  ],\n",
       "       [ 23.820599  ],\n",
       "       [  5.0701203 ],\n",
       "       [-31.62114   ],\n",
       "       [ 10.701126  ],\n",
       "       [ 23.820599  ],\n",
       "       [ 12.20735   ],\n",
       "       [ 16.922058  ],\n",
       "       [-31.62114   ],\n",
       "       [ 26.596233  ],\n",
       "       [  5.0701203 ],\n",
       "       [ 11.57582   ],\n",
       "       [  5.0701203 ],\n",
       "       [ 26.596233  ],\n",
       "       [ 11.57582   ],\n",
       "       [ 19.176237  ]], dtype=float32)"
      ]
     },
     "execution_count": 15,
     "metadata": {},
     "output_type": "execute_result"
    }
   ],
   "source": [
    "tsne2 = TSNE(n_components=1, verbose=1, perplexity=perplexity, n_iter=2000)\n",
    "y2 = tsne2.fit_transform(y.reshape(-1, 1))\n",
    "\n",
    "y2"
   ]
  },
  {
   "cell_type": "code",
   "execution_count": 16,
   "metadata": {},
   "outputs": [
    {
     "data": {
      "text/plain": [
       "array([], dtype=float32)"
      ]
     },
     "execution_count": 16,
     "metadata": {},
     "output_type": "execute_result"
    }
   ],
   "source": [
    "y2[y == 1]"
   ]
  },
  {
   "cell_type": "code",
   "execution_count": null,
   "metadata": {
    "collapsed": true
   },
   "outputs": [],
   "source": []
  }
 ],
 "metadata": {
  "kernelspec": {
   "display_name": "Python 3",
   "language": "python",
   "name": "python3"
  },
  "language_info": {
   "codemirror_mode": {
    "name": "ipython",
    "version": 3
   },
   "file_extension": ".py",
   "mimetype": "text/x-python",
   "name": "python",
   "nbconvert_exporter": "python",
   "pygments_lexer": "ipython3",
   "version": "3.6.8"
  }
 },
 "nbformat": 4,
 "nbformat_minor": 2
}
