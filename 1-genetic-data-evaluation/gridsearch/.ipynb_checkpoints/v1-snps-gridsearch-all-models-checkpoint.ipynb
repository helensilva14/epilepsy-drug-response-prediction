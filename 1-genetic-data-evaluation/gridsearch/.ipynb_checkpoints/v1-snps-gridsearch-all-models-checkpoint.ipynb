{
 "cells": [
  {
   "cell_type": "markdown",
   "metadata": {},
   "source": [
    "### Import the necessary libraries"
   ]
  },
  {
   "cell_type": "code",
   "execution_count": 1,
   "metadata": {
    "collapsed": true
   },
   "outputs": [],
   "source": [
    "import sys\n",
    "\n",
    "sys.path.append('../../') # add root folder project path"
   ]
  },
  {
   "cell_type": "code",
   "execution_count": 2,
   "metadata": {},
   "outputs": [
    {
     "name": "stdout",
     "output_type": "stream",
     "text": [
      "Number of CPUs on current machine: 4\n"
     ]
    }
   ],
   "source": [
    "import os\n",
    "import warnings\n",
    "import itertools\n",
    "import time\n",
    "import pickle \n",
    "import numpy as np\n",
    "import pandas as pd\n",
    "import xgboost as xgb\n",
    "import matplotlib.pyplot as plt\n",
    "\n",
    "from base.plot_graphs import plot_confusion_matrix, plot_normalized_confusion_matrix, plot_roc_curve\n",
    "\n",
    "from sklearn.model_selection import cross_val_score, cross_val_predict, LeaveOneOut, GridSearchCV, train_test_split\n",
    "from sklearn import metrics\n",
    "\n",
    "from sklearn.tree import DecisionTreeClassifier\n",
    "from sklearn.ensemble import RandomForestClassifier, GradientBoostingClassifier\n",
    "from sklearn.svm import SVC\n",
    "from xgboost.sklearn import XGBClassifier\n",
    "\n",
    "np.random.seed(10)\n",
    "\n",
    "import multiprocessing\n",
    "\n",
    "# check number of processors on current machine\n",
    "print(\"Number of CPUs on current machine: %d\" % multiprocessing.cpu_count())\n",
    "\n",
    "# select the processor to be used (comment if processors >= 4)\n",
    "# os.environ[\"CUDA_VISIBLE_DEVICES\"] = \"1\" "
   ]
  },
  {
   "cell_type": "markdown",
   "metadata": {},
   "source": [
    "### Get preprocessed data (241 samples)"
   ]
  },
  {
   "cell_type": "code",
   "execution_count": 3,
   "metadata": {},
   "outputs": [
    {
     "name": "stdout",
     "output_type": "stream",
     "text": [
      "<class 'pandas.core.frame.DataFrame'>  |  (241, 1309)\n",
      "<class 'pandas.core.series.Series'>  |  241\n"
     ]
    }
   ],
   "source": [
    "X = pickle.load(open( \"../../data/preprocessed/article-genetic-data-features.p\", \"rb\"))\n",
    "y = pickle.load(open( \"../../data/preprocessed/article-genetic-data-labels.p\", \"rb\"))\n",
    "\n",
    "print(type(X), \" | \", X.shape)\n",
    "print(type(y), \" | \", len(y))"
   ]
  },
  {
   "cell_type": "markdown",
   "metadata": {},
   "source": [
    "### Get data splits: train: 70% | validation: 20% | test: 10%"
   ]
  },
  {
   "cell_type": "code",
   "execution_count": 4,
   "metadata": {},
   "outputs": [
    {
     "name": "stdout",
     "output_type": "stream",
     "text": [
      "train: 168 | validation: 48 | test: 25\n",
      "\n",
      "train: 0.7% | validation: 0.2% | test: 0.1%\n"
     ]
    }
   ],
   "source": [
    "# intermediate/test split (gives the test set)\n",
    "X_intermediate, X_test, y_intermediate, y_test = train_test_split(X, y, test_size=0.10, random_state=1)\n",
    "\n",
    "# train/validation split (gives the train and validation sets)\n",
    "X_train, X_validation, y_train, y_validation = train_test_split(X_intermediate, y_intermediate, \n",
    "                                                                test_size=0.22, random_state=1)\n",
    "# delete intermediate variables\n",
    "del X_intermediate, y_intermediate\n",
    "\n",
    "# print proportions\n",
    "print('train: {} | validation: {} | test: {}\\n'.format(len(y_train), len(y_validation), len(y_test)))\n",
    "print('train: {}% | validation: {}% | test: {}%'.format(round(len(y_train)/len(y),2),\n",
    "                                                       round(len(y_validation)/len(y),2),\n",
    "                                                       round(len(y_test)/len(y),2)))"
   ]
  },
  {
   "cell_type": "markdown",
   "metadata": {},
   "source": [
    "### Create function to perform model fitting using GridSearchCV"
   ]
  },
  {
   "cell_type": "code",
   "execution_count": 34,
   "metadata": {
    "collapsed": true
   },
   "outputs": [],
   "source": [
    "def gridsearch_fit(model, param_grid, scoring='accuracy'):\n",
    "    \n",
    "    # DeprecationWarning: The default of the `iid` parameter will change from True to False in version 0.22 and \n",
    "    # will be removed in 0.24. This will change numeric results when test-set sizes are unequal.\n",
    "    grid = GridSearchCV(model, param_grid, cv=5, scoring=scoring, iid=True)\n",
    "    \n",
    "    start_time = time.time()\n",
    "    \n",
    "    # fit the grid with data\n",
    "    grid.fit(X_train, y_train)\n",
    "    \n",
    "    print(\"Execution time: \" + str((time.time() - start_time)) + ' ms')\n",
    "\n",
    "    # show single best score achieved across all params\n",
    "    print(\"\\nAccuracy (GridSearchCV Score) : %f\" % (grid.best_score_))\n",
    "\n",
    "    # show dictionary containing the parameters used to generate that score\n",
    "    print(\"\\nBest parameters : %s \\n\" % grid.best_params_)\n",
    "\n",
    "    # get actual model object fit with those best parameters \n",
    "    estimator = grid.best_estimator_\n",
    "    \n",
    "    # print all model params\n",
    "    print(estimator) \n",
    "    \n",
    "    predprobs, fpr, tpr, auc_score = get_metrics(estimator, X_validation, y_validation)\n",
    "\n",
    "    return predprobs, fpr, tpr, auc_score, grid.best_params_"
   ]
  },
  {
   "cell_type": "code",
   "execution_count": 35,
   "metadata": {
    "collapsed": true
   },
   "outputs": [],
   "source": [
    "def get_metrics(estimator, X, y):\n",
    "    # get the predictions and predictions probabilities\n",
    "    preds = estimator.predict(X)\n",
    "    predprobs = estimator.predict_proba(X)[:, 1]\n",
    "    \n",
    "    # calculate fpr and tpr values using the y_true and predictions probabilities\n",
    "    fpr, tpr, _ = metrics.roc_curve(y, predprobs)\n",
    "    \n",
    "    # calculate the auc score based on fpr and tpr values\n",
    "    auc_score = metrics.auc(fpr, tpr)\n",
    "\n",
    "    print(\"\\nAUC Score : %f\" % auc_score)\n",
    "    \n",
    "    # generate the confusion matrix for the model results and slice it into four pieces\n",
    "    cm = metrics.confusion_matrix(y, preds)\n",
    "    TP, TN, FP, FN = cm[1, 1], cm[0, 0], cm[0, 1], cm[1, 0]\n",
    "    \n",
    "    # calculate sensitivity score\n",
    "    # specificity: When the actual value is negative, how often is the prediction correct?\n",
    "    # how \"specific\" (or \"selective\") is the classifier in predicting positive instances?\n",
    "    specificity = TN / float(TN + FP)\n",
    "    print(\"\\nSpecificity Score : %f\" % specificity)\n",
    "    \n",
    "    # calculate sensitivity score\n",
    "    # sensitivity: When the actual value is positive, how often is the prediction correct?\n",
    "    # how \"sensitive\" is the classifier to detecting positive instances? Also known as \"True Positive Rate\" or \"Recall\"\n",
    "    sensitivity = TP / float(TP + FN)\n",
    "    print(\"\\nSensitivity Score : %f\" % sensitivity)\n",
    "    \n",
    "    # print a complete classification metrics report\n",
    "    print(\"\\n\" + metrics.classification_report(y, preds)) \n",
    "    \n",
    "    # get current model name\n",
    "    model_name = str(estimator).split('(')[0]\n",
    "    \n",
    "    # plot confusion matrix\n",
    "    plot_confusion_matrix(cm, model_name, 'gridsearch-genetic')\n",
    "    \n",
    "    # plot normalized confusion matrix\n",
    "    plot_normalized_confusion_matrix(cm, model_name, 'gridsearch-genetic') \n",
    "\n",
    "    # plot the roc curve\n",
    "    plot_roc_curve(fpr, tpr, auc_score, model_name, 'gridsearch-genetic')\n",
    "    \n",
    "    return predprobs, fpr, tpr, auc_score "
   ]
  },
  {
   "cell_type": "markdown",
   "metadata": {},
   "source": [
    "### Create a DecisionTreeClassifier model with parameter tunning"
   ]
  },
  {
   "cell_type": "code",
   "execution_count": 16,
   "metadata": {
    "collapsed": true
   },
   "outputs": [],
   "source": [
    "dt = DecisionTreeClassifier(random_state=10)\n",
    "\n",
    "\"\"\"\n",
    "ACCURACY\n",
    "Execution time: 613.2550058364868 ms\n",
    "Accuracy (GridSearchCV Score) : 0.779762\n",
    "Best parameters : {'max_depth': 7, 'min_samples_leaf': 4, 'min_samples_split': 16} \n",
    "AUC Score : 0.884766\n",
    "Specificity Score : 0.781250\n",
    "Sensitivity Score : 1.000000\n",
    "=================\n",
    "ROC_AUC\n",
    "Execution time: 695.0215799808502 ms\n",
    "Accuracy (GridSearchCV Score) : 0.764823\n",
    "Best parameters : {'max_depth': 5, 'min_samples_leaf': 9, 'min_samples_split': 27} \n",
    "AUC Score : 0.827148\n",
    "Specificity Score : 0.812500\n",
    "Sensitivity Score : 0.937500\n",
    "\"\"\"\n",
    "param_grid_dt = {'max_depth': np.arange(1, 21), \n",
    "                 'min_samples_split': np.arange(2, 51), \n",
    "                 'min_samples_leaf': np.arange(1, 16)}"
   ]
  },
  {
   "cell_type": "code",
   "execution_count": null,
   "metadata": {
    "collapsed": true
   },
   "outputs": [],
   "source": [
    "# perform model fitting\n",
    "dt_predprobs, fpr_dt, tpr_dt, auc_dt, dt_bestparams = gridsearch_fit(dt, param_grid_dt) #, 'roc_auc')\n",
    "\n",
    "# export prediction probabilities \n",
    "pickle.dump(dt_predprobs, open(\"../predictions/dt-gridsearch-genetic-predprobs.p\", \"wb\"))"
   ]
  },
  {
   "cell_type": "code",
   "execution_count": 17,
   "metadata": {},
   "outputs": [],
   "source": [
    "# export best param grid\n",
    "pickle.dump(dt_bestparams, open(\"../loocv-best-params-cdf/best-params/dt-gridsearch-params.p\", \"wb\"))"
   ]
  },
  {
   "cell_type": "markdown",
   "metadata": {},
   "source": [
    "### Create a RandomForestClassifier model with parameter tunning"
   ]
  },
  {
   "cell_type": "code",
   "execution_count": 18,
   "metadata": {},
   "outputs": [],
   "source": [
    "rf = RandomForestClassifier(random_state=10)\n",
    "\n",
    "\"\"\"\n",
    "ACCURACY\n",
    "Execution time: 23.998207569122314 ms\n",
    "Accuracy (GridSearchCV Score) : 0.755952\n",
    "Best params : {'criterion': 'gini', 'max_depth': 30, 'min_samples_leaf': 3, 'min_samples_split': 3, 'n_estimators': 30} \n",
    "AUC Score : 0.816406\n",
    "Specificity Score : 0.937500\n",
    "Sensitivity Score : 0.312500\n",
    "==============\n",
    "ROC_AUC\n",
    "Execution time: 25.675724029541016 ms\n",
    "Accuracy (GridSearchCV Score) : 0.811384\n",
    "Best params : {'criterion': 'gini', 'max_depth': 30, 'min_samples_leaf': 3, 'min_samples_split': 3, 'n_estimators': 30} \n",
    "AUC Score : 0.816406\n",
    "Specificity Score : 0.937500\n",
    "Sensitivity Score : 0.312500\n",
    "\"\"\"\n",
    "param_grid_rf1 = {'criterion':['gini','entropy'],\n",
    "                 'max_depth': [30, 50], \n",
    "                 'n_estimators':[10,15,20,25,30],\n",
    "                 'min_samples_split': [3, 4, 5], \n",
    "                 'min_samples_leaf': [3, 4, 5]} # [8, 10, 12]} # [5, 10, 15]} \n",
    "\n",
    "\"\"\"\n",
    "Execution time: 63.010621070861816 ms\n",
    "Accuracy (GridSearchCV Score) : 0.660714\n",
    "Best params : {'criterion': 'gini', 'max_depth': 30, 'max_features': 2, \n",
    "'min_samples_leaf': 3, 'min_samples_split': 8, 'n_estimators': 30} \n",
    "AUC Score : 0.722656\n",
    "Specificity Score : 1.000000\n",
    "Sensitivity Score : 0.000000\n",
    "\"\"\"\n",
    "param_grid_rf2 = {'criterion':['gini','entropy'],\n",
    "                 'max_depth': [30, 50], \n",
    "                 'max_features': [2, 3],\n",
    "                 'n_estimators':[30, 50, 100], \n",
    "                 'min_samples_split': [8, 10, 12],\n",
    "                 'min_samples_leaf': [3, 4, 5]} # \n",
    "\n",
    "param_grid_rf3 = {'criterion':['gini'],\n",
    "                 'max_depth': [30, 50], \n",
    "                 'n_estimators':[30, 50],\n",
    "                 'min_samples_split': [4, 5, 6, 8]} "
   ]
  },
  {
   "cell_type": "code",
   "execution_count": null,
   "metadata": {
    "collapsed": true
   },
   "outputs": [],
   "source": [
    "# perform model fitting\n",
    "rf_predprobs, fpr_rf, tpr_rf, auc_rf, rf_bestparams = gridsearch_fit(rf, param_grid_rf3)\n",
    "\n",
    "# export prediction probabilities \n",
    "pickle.dump(rf_predprobs, open(\"../predictions/rf-gridsearch-genetic-predprobs.p\", \"wb\"))"
   ]
  },
  {
   "cell_type": "code",
   "execution_count": 19,
   "metadata": {
    "collapsed": true
   },
   "outputs": [],
   "source": [
    "# export best param grid\n",
    "pickle.dump(rf_bestparams, open(\"../loocv-best-params-cdf/best-params/rf-gridsearch-params.p\", \"wb\"))"
   ]
  },
  {
   "cell_type": "markdown",
   "metadata": {},
   "source": [
    "### Create a SVM baseline model using a reduced set of tuned parameters"
   ]
  },
  {
   "cell_type": "code",
   "execution_count": 32,
   "metadata": {},
   "outputs": [],
   "source": [
    "param_grid_svc1 = [{'kernel': ['rbf'], 'gamma': [1e-3, 1e-4], 'C': [0.01, 1, 10, 100]}, \n",
    "                    {'kernel': ['linear'], 'C': [0.01, 1, 10, 100]}]\n",
    "\n",
    "\"\"\"\n",
    "Execution time: 27.8266761302948 ms\n",
    "Accuracy (GridSearchCV Score) : 0.755952\n",
    "Best parameters : {'C': 10, 'gamma': 0.01, 'kernel': 'rbf'} \n",
    "AUC Score : 0.832031\n",
    "Specificity Score : 0.906250\n",
    "Sensitivity Score : 0.687500\n",
    "\"\"\"\n",
    "param_grid_svc2 = {'kernel': ['rbf', 'linear'],\n",
    "                   'gamma': [1, 1e-1, 1e-2, 1e-3, 1e-4], \n",
    "                   'C': [0.01, 1, 10, 100]}\n",
    "\n",
    "param_grid_svc3 = [{'kernel': ['rbf'], 'gamma': [1e-3, 1e-4], 'C': [0.01, 0.1, 1, 10]}, \n",
    "                   {'kernel': ['rbf'], 'gamma': [0.001, 0.01, 0.1, 1]},\n",
    "                   {'kernel': ['linear'], 'C': [0.001, 0.01, 0.1, 1, 10]}]\n",
    "\n",
    "\"\"\"\n",
    "Execution time: 72.63676905632019 ms\n",
    "Accuracy (GridSearchCV Score) : 0.812231\n",
    "Best parameters : {'C': 0.1, 'decision_function_shape': 'ovo', 'gamma': 0.01, 'kernel': 'linear'} \n",
    "AUC Score : 0.792969\n",
    "Specificity Score : 0.843750\n",
    "Sensitivity Score : 0.625000\n",
    "\"\"\"\n",
    "# https://www.kaggle.com/jsnsaji/titanic-classifier\n",
    "param_grid_svc4 = {'kernel':('linear', 'rbf'), \n",
    "              'C':(0.01, 0.1, 1, 0.25, 0.5),\n",
    "              'gamma': (0.01, 0.1, 1, 2,'auto'),\n",
    "              'decision_function_shape':('ovo','ovr')}\n",
    "\n",
    "\"\"\"\n",
    "Execution time: 163.8002290725708 ms\n",
    "Accuracy (GridSearchCV Score) : 0.767857\n",
    "Best parameters : {'C': 0.1, 'coef0': 1000.0, 'degree': 2, 'gamma': 'auto', 'kernel': 'poly'} \n",
    "AUC Score : 0.810547\n",
    "Specificity Score : 0.812500\n",
    "Sensitivity Score : 0.625000\n",
    "\"\"\"\n",
    "param_grid_svc5 = [{'kernel': ['rbf'],\n",
    "                   'gamma': np.logspace(-4, 3, 10),\n",
    "                   'C': [1e-3, 1e-2, 1e-1, 1, 10]},\n",
    "                  {'kernel': ['poly'],\n",
    "                   'gamma': ['auto'],\n",
    "                   'degree': [1, 2, 3, 4],\n",
    "                   'C': [1e-3, 1e-2, 1e-1, 1, 10],\n",
    "                   'coef0': np.logspace(-4, 3, 10)},\n",
    "                  {'kernel': ['linear'],\n",
    "                   'gamma': ['auto'],\n",
    "                   'C': [1e-3, 1e-2, 1e-1, 1, 10]}]\n",
    "\n",
    "\"\"\"\n",
    "Execution time: 1524.797747373581 ms\n",
    "Accuracy (GridSearchCV Score) : 0.773810\n",
    "Best parameters : {'C': 0.1, 'coef0': 78.47599703514607, 'degree': 2, 'gamma': 0.01, 'kernel': 'poly'} \n",
    "AUC Score : 0.812500\n",
    "Specificity Score : 0.812500\n",
    "Sensitivity Score : 0.625000\n",
    "\"\"\"\n",
    "param_grid_svc6 = [{'kernel': ['sigmoid'], #poly\n",
    "                   'gamma': [1, 1e-1, 1e-2, 1e-3, 1e-4], \n",
    "                   'degree': [1, 2, 3, 4],\n",
    "                   'C': [1e-3, 1e-2, 1e-1, 1, 10],\n",
    "                   'coef0': np.logspace(-4, 3, 10)}]\n",
    "\n",
    "\"\"\"\n",
    "Execution time: 10.966582536697388 ms\n",
    "Accuracy (GridSearchCV Score) : 0.755952\n",
    "Best parameters : {'C': 10, 'gamma': 0.019306977288832496, 'kernel': 'rbf'} \n",
    "AUC Score : 0.863281\n",
    "Specificity Score : 0.968750\n",
    "Sensitivity Score : 0.750000\n",
    "\"\"\"\n",
    "param_grid_svc7 = {'kernel': ['rbf'],\n",
    "                   'gamma': np.logspace(-8, 3, 15),\n",
    "                   'C': [10]}\n",
    "\n",
    "svc = SVC(probability=True, random_state=10)"
   ]
  },
  {
   "cell_type": "code",
   "execution_count": 36,
   "metadata": {},
   "outputs": [
    {
     "name": "stdout",
     "output_type": "stream",
     "text": [
      "Execution time: 10.507678508758545 ms\n",
      "\n",
      "Accuracy (GridSearchCV Score) : 0.755952\n",
      "\n",
      "Best parameters : {'C': 10, 'gamma': 0.019306977288832496, 'kernel': 'rbf'} \n",
      "\n",
      "SVC(C=10, cache_size=200, class_weight=None, coef0=0.0,\n",
      "  decision_function_shape='ovr', degree=3, gamma=0.019306977288832496,\n",
      "  kernel='rbf', max_iter=-1, probability=True, random_state=10,\n",
      "  shrinking=True, tol=0.001, verbose=False)\n",
      "\n",
      "AUC Score : 0.863281\n",
      "\n",
      "Specificity Score : 0.968750\n",
      "\n",
      "Sensitivity Score : 0.750000\n",
      "\n",
      "              precision    recall  f1-score   support\n",
      "\n",
      "           0       0.89      0.97      0.93        32\n",
      "           1       0.92      0.75      0.83        16\n",
      "\n",
      "   micro avg       0.90      0.90      0.90        48\n",
      "   macro avg       0.90      0.86      0.88        48\n",
      "weighted avg       0.90      0.90      0.89        48\n",
      "\n"
     ]
    },
    {
     "data": {
      "image/png": "[encoded data removed]",
      "text/plain": [
       "<Figure size 432x288 with 1 Axes>"
      ]
     },
     "metadata": {},
     "output_type": "display_data"
    },
    {
     "data": {
      "image/png": "[encoded data removed]",
      "text/plain": [
       "<Figure size 432x288 with 2 Axes>"
      ]
     },
     "metadata": {},
     "output_type": "display_data"
    },
    {
     "data": {
      "image/png": "[encoded data removed]",
      "text/plain": [
       "<Figure size 432x288 with 1 Axes>"
      ]
     },
     "metadata": {},
     "output_type": "display_data"
    }
   ],
   "source": [
    "# perform model fitting\n",
    "svc_predprobs, fpr_svc, tpr_svc, auc_svc, svc_bestparams = gridsearch_fit(svc, param_grid_svc7)\n",
    "\n",
    "# export prediction probabilities \n",
    "pickle.dump(svc_predprobs, open(\"../predictions/svc-gridsearch-genetic-predprobs.p\", \"wb\"))"
   ]
  },
  {
   "cell_type": "code",
   "execution_count": 37,
   "metadata": {
    "collapsed": true
   },
   "outputs": [],
   "source": [
    "# export best param grid\n",
    "pickle.dump(svc_bestparams, open(\"../loocv-best-params-cdf/best-params/svc-gridsearch-params.p\", \"wb\"))"
   ]
  },
  {
   "cell_type": "markdown",
   "metadata": {},
   "source": [
    "### Create a GBM baseline model with parameter tunning"
   ]
  },
  {
   "cell_type": "code",
   "execution_count": 22,
   "metadata": {},
   "outputs": [],
   "source": [
    "gbm = GradientBoostingClassifier(random_state=10)\n",
    "\n",
    "\"\"\"\n",
    "ACCURACY\n",
    "Execution time: 32.73474621772766 ms\n",
    "Accuracy (GridSearchCV Score) : 0.785714\n",
    "Best parameters : {'learning_rate': 0.1, 'max_depth': 4, 'max_features': 'sqrt', 'n_estimators': 250} \n",
    "AUC Score : 0.884766\n",
    "Specificity Score : 0.875000\n",
    "Sensitivity Score : 0.562500\n",
    "\"\"\"\n",
    "param_grid_gbm1 = {'learning_rate': [0.1,0.05,0.01,0.005,0.001], \n",
    "                   'n_estimators': [100,250,500,1000],\n",
    "                   'max_depth': [4], \n",
    "                   'max_features': ['sqrt']}\n",
    "\n",
    "\"\"\"\n",
    "Execution time: 29.629493713378906 ms\n",
    "Accuracy (GridSearchCV Score) : 0.815476\n",
    "Best parameters : {'learning_rate': 0.1, 'max_depth': 3, 'max_features': 'sqrt', 'min_samples_leaf': 9, 'n_estimators': 250} \n",
    "AUC Score : 0.873047\n",
    "Specificity Score : 0.875000\n",
    "Sensitivity Score : 0.437500\n",
    "\"\"\"\n",
    "param_grid_gbm2 = {'learning_rate': [0.1], \n",
    "                   'n_estimators': [250],\n",
    "                   'max_depth': [4], \n",
    "                   'max_features': ['sqrt'],\n",
    "                   'max_depth':[2,3,4,5,6,7], \n",
    "                   'min_samples_leaf':[1,3,5,7,9]}"
   ]
  },
  {
   "cell_type": "code",
   "execution_count": 28,
   "metadata": {},
   "outputs": [
    {
     "name": "stdout",
     "output_type": "stream",
     "text": [
      "Execution time: 32.91699743270874 ms\n",
      "\n",
      "Accuracy (GridSearchCV Score) : 0.785714\n",
      "\n",
      "Best parameters : {'learning_rate': 0.1, 'max_depth': 4, 'max_features': 'sqrt', 'n_estimators': 250} \n",
      "\n",
      "GradientBoostingClassifier(criterion='friedman_mse', init=None,\n",
      "              learning_rate=0.1, loss='deviance', max_depth=4,\n",
      "              max_features='sqrt', max_leaf_nodes=None,\n",
      "              min_impurity_decrease=0.0, min_impurity_split=None,\n",
      "              min_samples_leaf=1, min_samples_split=2,\n",
      "              min_weight_fraction_leaf=0.0, n_estimators=250,\n",
      "              n_iter_no_change=None, presort='auto', random_state=10,\n",
      "              subsample=1.0, tol=0.0001, validation_fraction=0.1,\n",
      "              verbose=0, warm_start=False)\n",
      "\n",
      "AUC Score : 0.884766\n",
      "\n",
      "Specificity Score : 0.875000\n",
      "\n",
      "Sensitivity Score : 0.562500\n",
      "\n",
      "              precision    recall  f1-score   support\n",
      "\n",
      "           0       0.80      0.88      0.84        32\n",
      "           1       0.69      0.56      0.62        16\n",
      "\n",
      "   micro avg       0.77      0.77      0.77        48\n",
      "   macro avg       0.75      0.72      0.73        48\n",
      "weighted avg       0.76      0.77      0.76        48\n",
      "\n"
     ]
    },
    {
     "data": {
      "image/png": "[encoded data removed]",
      "text/plain": [
       "<Figure size 432x288 with 1 Axes>"
      ]
     },
     "metadata": {},
     "output_type": "display_data"
    },
    {
     "data": {
      "image/png": "[encoded data removed]",
      "text/plain": [
       "<Figure size 432x288 with 2 Axes>"
      ]
     },
     "metadata": {},
     "output_type": "display_data"
    },
    {
     "data": {
      "image/png": "[encoded data removed]",
      "text/plain": [
       "<Figure size 432x288 with 1 Axes>"
      ]
     },
     "metadata": {},
     "output_type": "display_data"
    }
   ],
   "source": [
    "# perform model fitting\n",
    "gbm_predprobs, fpr_gbm, tpr_gbm, auc_gbm, gbm_bestparams = gridsearch_fit(gbm, param_grid_gbm1)\n",
    "\n",
    "# export prediction probabilities \n",
    "pickle.dump(gbm_predprobs, open(\"../predictions/gbm-gridsearch-genetic-predprobs.p\", \"wb\"))"
   ]
  },
  {
   "cell_type": "code",
   "execution_count": 23,
   "metadata": {
    "collapsed": true
   },
   "outputs": [],
   "source": [
    "# export best param grid\n",
    "pickle.dump(gbm_bestparams, open(\"../loocv-best-params-cdf/best-params/gbm-gridsearch-params.p\", \"wb\"))"
   ]
  },
  {
   "cell_type": "markdown",
   "metadata": {},
   "source": [
    "### Create a XGB baseline model using default parameters"
   ]
  },
  {
   "cell_type": "code",
   "execution_count": 24,
   "metadata": {},
   "outputs": [],
   "source": [
    "xgb = XGBClassifier(random_state=10)\n",
    "\n",
    "\"\"\"\n",
    "Execution time: 155.3580596446991 ms\n",
    "Accuracy (GridSearchCV Score) : 0.803571\n",
    "Best parameters : {'learning_rate': 0.05, 'n_estimators': 250} \n",
    "AUC Score : 0.855469\n",
    "Specificity Score : 0.812500\n",
    "Sensitivity Score : 0.687500\n",
    "\"\"\"\n",
    "param_grid_xgb1 = {'learning_rate':[0.15,0.1,0.05,0.01,0.005,0.001], \n",
    "                   'n_estimators':[100,250,500]}\n",
    "\n",
    "\"\"\"\n",
    "Execution time: 907.6884641647339 ms\n",
    "Accuracy (GridSearchCV Score) : 0.803571\n",
    "Best parameters : {'learning_rate': 0.005, 'n_estimators': 1500, 'subsample': 0.8} \n",
    "AUC Score : 0.882812\n",
    "Specificity Score : 0.875000\n",
    "Sensitivity Score : 0.687500\n",
    "\"\"\"\n",
    "param_grid_xgb2 = {'learning_rate':[0.1,0.05,0.01,0.005,0.001], \n",
    "                   'n_estimators':[500,1000,1500],\n",
    "                   'subsample': [0.8, 1]}\n",
    "\n",
    "\"\"\"\n",
    "Execution time: 1175.7173562049866 ms\n",
    "Accuracy (GridSearchCV Score) : 0.803571\n",
    "Best parameters : {'learning_rate': 0.005, 'max_depth': 3, 'n_estimators': 1500, 'subsample': 0.8} \n",
    "AUC Score : 0.882812\n",
    "Specificity Score : 0.875000\n",
    "Sensitivity Score : 0.687500\n",
    "\"\"\"\n",
    "param_grid_xgb3 = {'learning_rate':[0.01,0.005,0.001], \n",
    "                   'n_estimators':[1500, 2000],\n",
    "                   'subsample': [0.8],\n",
    "                   'max_depth': [3, 4, 5]}"
   ]
  },
  {
   "cell_type": "code",
   "execution_count": null,
   "metadata": {
    "collapsed": true
   },
   "outputs": [],
   "source": [
    "# perform model fitting\n",
    "xgb_predprobs, fpr_xgb, tpr_xgb, auc_xgb, xgb_bestparams = gridsearch_fit(xgb, param_grid_xgb3)\n",
    "\n",
    "# export prediction probabilities \n",
    "pickle.dump(xgb_predprobs, open(\"../predictions/xgb-gridsearch-genetic-predprobs.p\", \"wb\"))"
   ]
  },
  {
   "cell_type": "code",
   "execution_count": 25,
   "metadata": {
    "collapsed": true
   },
   "outputs": [],
   "source": [
    "# export best param grid\n",
    "pickle.dump(xgb_bestparams, open(\"../loocv-best-params-cdf/best-params/xgb-gridsearch-params.p\", \"wb\"))"
   ]
  },
  {
   "cell_type": "markdown",
   "metadata": {},
   "source": [
    "### Compare all generated ROC curves"
   ]
  },
  {
   "cell_type": "code",
   "execution_count": 29,
   "metadata": {},
   "outputs": [
    {
     "data": {
      "image/png": "[encoded data removed]",
      "text/plain": [
       "<Figure size 432x288 with 1 Axes>"
      ]
     },
     "metadata": {},
     "output_type": "display_data"
    }
   ],
   "source": [
    "# load comparison of initial approach\n",
    "from PIL import Image\n",
    "image = Image.open('../figures/roc-curves/genetic-models-comparison-roc-curves.png')\n",
    "image.show()\n",
    "\n",
    "# get prediction probabilities from individual classifiers\n",
    "dt_predprobs = pickle.load( open( \"../predictions/dt-gridsearch-genetic-predprobs.p\", \"rb\" ) )\n",
    "rf_predprobs = pickle.load( open( \"../predictions/rf-gridsearch-genetic-predprobs.p\", \"rb\" ) )\n",
    "svc_predprobs = pickle.load( open( \"../predictions/svc-gridsearch-genetic-predprobs.p\", \"rb\" ) )\n",
    "gbm_predprobs = pickle.load( open( \"../predictions/gbm-gridsearch-genetic-predprobs.p\", \"rb\" ) )\n",
    "xgb_predprobs = pickle.load( open( \"../predictions/xgb-gridsearch-genetic-predprobs.p\", \"rb\" ) )\n",
    "\n",
    "# calculate fpr, tpr and auc score for all models using the y_true and its predictions probabilities\n",
    "fpr_dt, tpr_dt, _ = metrics.roc_curve(y_validation, dt_predprobs)\n",
    "auc_dt = metrics.auc(fpr_dt, tpr_dt)\n",
    "\n",
    "fpr_rf, tpr_rf, _ = metrics.roc_curve(y_validation, rf_predprobs)\n",
    "auc_rf = metrics.auc(fpr_rf, tpr_rf)\n",
    "\n",
    "fpr_svc, tpr_svc, _ = metrics.roc_curve(y_validation, svc_predprobs)\n",
    "auc_svc = metrics.auc(fpr_svc, tpr_svc)\n",
    "\n",
    "fpr_gbm, tpr_gbm, _ = metrics.roc_curve(y_validation, gbm_predprobs)\n",
    "auc_gbm = metrics.auc(fpr_gbm, tpr_gbm)\n",
    "\n",
    "fpr_xgb, tpr_xgb, _ = metrics.roc_curve(y_validation, xgb_predprobs)\n",
    "auc_xgb = metrics.auc(fpr_xgb, tpr_xgb)\n",
    "\n",
    "# plot all roc curves into the same image\n",
    "plt.figure()\n",
    "plt.xlim([0.0, 1.0])\n",
    "plt.ylim([0.0, 1.05])\n",
    "plt.plot([0, 1], [0, 1], color='black', linestyle='--')  , \n",
    "plt.plot(fpr_dt, tpr_dt, color='aqua', label='DT (AUC = %f)' % auc_dt)\n",
    "plt.plot(fpr_rf, tpr_rf, color='cornflowerblue', label='RF (AUC = %f)' % auc_rf)\n",
    "plt.plot(fpr_svc, tpr_svc, color='darkorange', label='SVM (AUC = %f)' % auc_svc)\n",
    "plt.plot(fpr_gbm, tpr_gbm, color='deeppink', label='GB (AUC = %f)' % auc_gbm)\n",
    "plt.plot(fpr_xgb, tpr_xgb, color='navy', label='XG (AUC = %f)' % auc_xgb)\n",
    "plt.xlabel('Taxa de falsos positivos') # False positive rate\n",
    "plt.ylabel('Taxa de verdadeiros positivos') # True positive rate\n",
    "plt.title('Comparação das curvas ROC dos classificadores') # Drug Response Prediction - ROC Curve\n",
    "plt.legend(loc='lower right')\n",
    "# save plot as image \n",
    "plt.savefig('../figures/roc-curves/genetic-models-gridsearch-comparison-roc-curves.pdf', dpi=300)\n",
    "plt.show()"
   ]
  },
  {
   "cell_type": "code",
   "execution_count": null,
   "metadata": {
    "collapsed": true
   },
   "outputs": [],
   "source": []
  }
 ],
 "metadata": {
  "kernelspec": {
   "display_name": "Python 3",
   "language": "python",
   "name": "python3"
  },
  "language_info": {
   "codemirror_mode": {
    "name": "ipython",
    "version": 3
   },
   "file_extension": ".py",
   "mimetype": "text/x-python",
   "name": "python",
   "nbconvert_exporter": "python",
   "pygments_lexer": "ipython3",
   "version": "3.6.8"
  }
 },
 "nbformat": 4,
 "nbformat_minor": 1
}
